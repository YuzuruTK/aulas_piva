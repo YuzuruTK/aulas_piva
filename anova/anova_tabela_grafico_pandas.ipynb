{
 "cells": [
  {
   "cell_type": "code",
   "execution_count": 2,
   "metadata": {},
   "outputs": [],
   "source": [
    "import pandas as pd\n",
    "from IPython.display import display, Markdown\n",
    "import os\n",
    "import numpy as np\n",
    "csv_folder = \"../csvs/anova/\"\n",
    "## CASO NÃO ESTEJA ENCONTRANDO OS ARQUIVOS, SÓ PEGA E DESCOMENTA A LINHA DEBAIXO PRA ELE PEGAR E TROCAR DE DIRETÓRIO\n",
    "# os.chdir(f\"../{csv_folder}\")"
   ]
  },
  {
   "cell_type": "code",
   "execution_count": 3,
   "metadata": {},
   "outputs": [
    {
     "name": "stdout",
     "output_type": "stream",
     "text": [
      "    A   B   C   D   E   F\n",
      "0  64  69  46  56  39  46\n",
      "1  59  53  48  45  59  50\n",
      "2  50  51  43  45  53  65\n",
      "3  63  55  35  42  53  59\n"
     ]
    }
   ],
   "source": [
    "dataframe = pd.read_csv(csv_folder+\"teste.csv\")\n",
    "print(dataframe)"
   ]
  },
  {
   "cell_type": "code",
   "execution_count": 4,
   "metadata": {},
   "outputs": [
    {
     "name": "stdout",
     "output_type": "stream",
     "text": [
      "(dfb) DF tratamentos(entre colunas): 5\n",
      "(dfw) DF erros(dentro das colunas): 18\n"
     ]
    }
   ],
   "source": [
    "# NUMERO DE TRATAMENTOS E NUMERO DE REPETIÇÕES\n",
    "r, k = dataframe.shape\n",
    "\n",
    "## GRAUS DE LIBERDADE = GL = DF ## \n",
    "# Numero de Variaveis Independentes\n",
    "# gl_trat = k - 1\n",
    "df_between = k - 1\n",
    "# gl_erro\n",
    "df_within = (r*k) - k\n",
    "print(f\"(dfb) DF tratamentos(entre colunas): {round(df_between, 2)}\")\n",
    "print(f\"(dfw) DF erros(dentro das colunas): {round(df_within, 2)}\")"
   ]
  },
  {
   "cell_type": "code",
   "execution_count": 5,
   "metadata": {},
   "outputs": [
    {
     "name": "stdout",
     "output_type": "stream",
     "text": [
      "(SSB = SQTrat) Soma de quadrados entre colunas: 760.0\n",
      "(SSW = SQErro) Soma de quadrados dentro de colunas: 972.0\n",
      "(SST = SQTotal) Soma de quadrados Totais: 1732.0\n"
     ]
    }
   ],
   "source": [
    "# SUM OF SQUARE - SSQ\n",
    "# Soma dos quadrados - SQ\n",
    "\n",
    "mean_of_all_data = dataframe.to_numpy().mean()\n",
    "\n",
    "# SSB ou SQTRAT\n",
    "sum_of_square_between = 0 \n",
    "# sum_of_square_between = sum([*map(lambda n: ((n - mean_of_all_data) ** 2) * r, dataframe.mean())])\n",
    "\n",
    "for group in dataframe.items():\n",
    "    column_mean = group[1].mean()\n",
    "    for value in group[1]:\n",
    "        sum_of_square_between += (column_mean - mean_of_all_data) ** 2  \n",
    "\n",
    "print(f\"(SSB = SQTrat) Soma de quadrados entre colunas: {sum_of_square_between}\")\n",
    "\n",
    "# SSW ou SQerro\n",
    "sum_of_square_within = 0\n",
    "# sum_of_square_within = sum([*map(lambda n: sum([*map(lambda m: (m - dataframe[n].mean())**2, dataframe[n])]), dataframe.columns)])\n",
    "\n",
    "for value in dataframe.items():\n",
    "    column_mean = value[1].mean()\n",
    "    sum_of_column = sum([*map(lambda n: (n - column_mean) ** 2, value[1])])\n",
    "    sum_of_square_within += sum_of_column\n",
    "\n",
    "print(f\"(SSW = SQErro) Soma de quadrados dentro de colunas: {sum_of_square_within}\")\n",
    "\n",
    "# SST ou SQTotal\n",
    "sum_of_square_total = 0\n",
    "\n",
    "for group in dataframe.iterrows():\n",
    "    for value in group[1]:\n",
    "        sum_of_square_total += (float(value) - mean_of_all_data) ** 2\n",
    "print(f\"(SST = SQTotal) Soma de quadrados Totais: {sum_of_square_total}\")"
   ]
  },
  {
   "cell_type": "code",
   "execution_count": 6,
   "metadata": {},
   "outputs": [
    {
     "name": "stdout",
     "output_type": "stream",
     "text": [
      "(MSw = QMerro) Media de quadrados entre as colunas 54.0\n",
      "(MSb = QMtrat) Media de quadrados entre colunas 152.0\n"
     ]
    }
   ],
   "source": [
    "# MSw ou QMerro \n",
    "mean_square_within = sum_of_square_within / df_within\n",
    "print(f\"(MSw = QMerro) Media de quadrados entre as colunas {round(mean_square_within, 2)}\")\n",
    "# MSb ou QMtrat\n",
    "mean_square_between = sum_of_square_between / df_between\n",
    "print(f\"(MSb = QMtrat) Media de quadrados entre colunas {round(mean_square_between, 2)}\")\n",
    "    "
   ]
  },
  {
   "cell_type": "code",
   "execution_count": 7,
   "metadata": {},
   "outputs": [
    {
     "name": "stdout",
     "output_type": "stream",
     "text": [
      "Fischer estatisticas: 2.814814814814815\n",
      "CV : 14.131671592979874 %\n"
     ]
    }
   ],
   "source": [
    "calculated_fischer = mean_square_between / mean_square_within\n",
    "print(f\"Fischer estatisticas: {calculated_fischer}\")\n",
    "\n",
    "variance_coefficient = np.sqrt(mean_square_within) / mean_of_all_data\n",
    "variance_coefficient = variance_coefficient * 100\n",
    "print(f\"CV : {variance_coefficient} %\")"
   ]
  },
  {
   "cell_type": "code",
   "execution_count": 8,
   "metadata": {},
   "outputs": [
    {
     "data": {
      "text/markdown": [
       "| Fonte de Váriação   | GL   | SQ     | QM    | F     |\n",
       "|:--------------------|:-----|:-------|:------|:------|\n",
       "| Tratamento          | 5    | 760.0  | 152.0 | 2.81  |\n",
       "| Erro                | 18   | 972.0  | 54.0  |       |\n",
       "| Total               | 23   | 1732.0 |       |       |\n",
       "| Média Geral         |      |        |       | 52.0  |\n",
       "| CV(%)               |      |        |       | 14.13 |"
      ],
      "text/plain": [
       "<IPython.core.display.Markdown object>"
      ]
     },
     "metadata": {},
     "output_type": "display_data"
    }
   ],
   "source": [
    "tabela_dict = {\n",
    "\"Fonte de Váriação\" : [\"Tratamento\", \"Erro\", \"Total\", \"Média Geral\", \"CV(%)\"],\n",
    "\"GL\": [df_between.__round__(2), df_within.__round__(2), df_between + df_within, \"\", \"\"],\n",
    "\"SQ\": [sum_of_square_between.__round__(2), sum_of_square_within.__round__(2), sum_of_square_total.__round__(2),\"\", \"\"], \n",
    "\"QM\": [mean_square_between.__round__(2),mean_square_within.__round__(2),\"\",\"\", \"\"], \n",
    "\"F\" : [calculated_fischer.__round__(2),\"\",\"\", mean_of_all_data.__round__(2),variance_coefficient.__round__(2)]}\n",
    "\n",
    "dataframe_tabela = pd.DataFrame(tabela_dict)\n",
    "\n",
    "display(Markdown(dataframe_tabela.to_markdown(index=False)))"
   ]
  },
  {
   "cell_type": "code",
   "execution_count": 9,
   "metadata": {},
   "outputs": [
    {
     "name": "stdout",
     "output_type": "stream",
     "text": [
      "Valor na Tabela de Fischer: 2.773\n",
      "Valor calculado na tabela de variação: 2.814814814814815\n",
      "Existe Diferença Significativa\n"
     ]
    }
   ],
   "source": [
    "dataframe = pd.read_csv(f\"{csv_folder}tabela_fischer.csv\")\n",
    "\n",
    "ftab = list(dataframe.iterrows())[df_within -1][1][f\"{df_between}\"]\n",
    "print(f\"Valor na Tabela de Fischer: {ftab}\")\n",
    "print(f\"Valor calculado na tabela de variação: {calculated_fischer}\")\n",
    "if ftab < calculated_fischer:\n",
    "    print(\"Existe Diferença Significativa\")\n",
    "else: \n",
    "    print(\"Não Existe Diferença Significativa\")"
   ]
  }
 ],
 "metadata": {
  "kernelspec": {
   "display_name": ".venv",
   "language": "python",
   "name": "python3"
  },
  "language_info": {
   "codemirror_mode": {
    "name": "ipython",
    "version": 3
   },
   "file_extension": ".py",
   "mimetype": "text/x-python",
   "name": "python",
   "nbconvert_exporter": "python",
   "pygments_lexer": "ipython3",
   "version": "3.12.3"
  }
 },
 "nbformat": 4,
 "nbformat_minor": 2
}
