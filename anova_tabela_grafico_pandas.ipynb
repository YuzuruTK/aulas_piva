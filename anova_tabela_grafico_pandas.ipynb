{
 "cells": [
  {
   "cell_type": "code",
   "execution_count": 2,
   "metadata": {},
   "outputs": [],
   "source": [
    "from typing import List, Dict\n",
    "import pandas as pd\n",
    "from IPython.display import display, Markdown\n",
    "import numpy as np\n",
    "import csv"
   ]
  },
  {
   "cell_type": "code",
   "execution_count": 3,
   "metadata": {},
   "outputs": [
    {
     "name": "stdout",
     "output_type": "stream",
     "text": [
      "      A     B     C    D    E\n",
      "0  2000  1200  3000  700  500\n",
      "1  2300  1000  3400  600  700\n",
      "2  2500   900  3100  900  390\n",
      "3  2400  1050  3300  600  410\n"
     ]
    }
   ],
   "source": [
    "dataframe = pd.read_csv(\"remedios.csv\")\n",
    "print(dataframe)"
   ]
  },
  {
   "cell_type": "code",
   "execution_count": 4,
   "metadata": {},
   "outputs": [
    {
     "name": "stdout",
     "output_type": "stream",
     "text": [
      "(dfb) DF tratamentos(entre colunas): 4\n",
      "(dfw) DF erros(dentro das colunas): 15\n"
     ]
    }
   ],
   "source": [
    "# NUMERO DE TRATAMENTOS E NUMERO DE REPETIÇÕES\n",
    "r, k = dataframe.shape\n",
    "\n",
    "## GRAUS DE LIBERDADE = GL = DF ## \n",
    "# Numero de Variaveis Independentes\n",
    "# gl_trat = k - 1\n",
    "df_between = k - 1\n",
    "# gl_erro\n",
    "df_within = (r*k) - k\n",
    "print(f\"(dfb) DF tratamentos(entre colunas): {round(df_between, 2)}\")\n",
    "print(f\"(dfw) DF erros(dentro das colunas): {round(df_within, 2)}\")"
   ]
  },
  {
   "cell_type": "code",
   "execution_count": 5,
   "metadata": {},
   "outputs": [
    {
     "name": "stdout",
     "output_type": "stream",
     "text": [
      "(SSB = SQTrat) Soma de quadrados entre colunas: 21490500.0\n",
      "(SSW = SQErro) Soma de quadrados dentro de colunas: 407075.0\n",
      "(SST = SQTotal) Soma de quadrados Totais: 21897575.0\n"
     ]
    }
   ],
   "source": [
    "# SUM OF SQUARE - SSQ\n",
    "# Soma dos quadrados - SQ\n",
    "\n",
    "mean_of_all_data = dataframe.to_numpy().mean()\n",
    "\n",
    "# SSB ou SQTRAT\n",
    "sum_of_square_between = 0 \n",
    "# sum_of_square_between = sum([*map(lambda n: (n - mean_of_all_data) ** 2, dataframe.mean())])\n",
    "\n",
    "for group in dataframe.items():\n",
    "    column_mean = group[1].mean()\n",
    "    for value in group[1]:\n",
    "        sum_of_square_between += (column_mean - mean_of_all_data) ** 2  \n",
    "\n",
    "print(f\"(SSB = SQTrat) Soma de quadrados entre colunas: {sum_of_square_between}\")\n",
    "\n",
    "# SSW ou SQerro\n",
    "sum_of_square_within = 0\n",
    "# sum_of_square_within = sum([*map(lambda n: sum([*map(lambda m: (m - dataframe[n].mean())**2, dataframe[n])]), dataframe.columns)])\n",
    "\n",
    "for value in dataframe.items():\n",
    "    column_mean = value[1].mean()\n",
    "    sum_of_column = sum([*map(lambda n: (n - column_mean) ** 2, value[1])])\n",
    "    sum_of_square_within += sum_of_column\n",
    "\n",
    "print(f\"(SSW = SQErro) Soma de quadrados dentro de colunas: {sum_of_square_within}\")\n",
    "\n",
    "# SST ou SQTotal\n",
    "sum_of_square_total = 0\n",
    "\n",
    "for group in dataframe.iterrows():\n",
    "    for value in group[1]:\n",
    "        sum_of_square_total += (float(value) - mean_of_all_data) ** 2\n",
    "print(f\"(SST = SQTotal) Soma de quadrados Totais: {sum_of_square_total}\")"
   ]
  },
  {
   "cell_type": "code",
   "execution_count": 6,
   "metadata": {},
   "outputs": [
    {
     "name": "stdout",
     "output_type": "stream",
     "text": [
      "(MSw = QMerro) Media de quadrados entre as colunas 27138.33\n",
      "(MSb = QMtrat) Media de quadrados entre colunas 5372625.0\n"
     ]
    }
   ],
   "source": [
    "# MSw ou QMerro \n",
    "mean_square_within = sum_of_square_within / df_within\n",
    "print(f\"(MSw = QMerro) Media de quadrados entre as colunas {round(mean_square_within, 2)}\")\n",
    "# MSb ou QMtrat\n",
    "mean_square_between = sum_of_square_between / df_between\n",
    "print(f\"(MSb = QMtrat) Media de quadrados entre colunas {round(mean_square_between, 2)}\")\n",
    "    "
   ]
  },
  {
   "cell_type": "code",
   "execution_count": 12,
   "metadata": {},
   "outputs": [
    {
     "name": "stdout",
     "output_type": "stream",
     "text": [
      "Fischer estatisticas: 197.97181109132225\n",
      "CV : 10.64537411284648 %\n"
     ]
    }
   ],
   "source": [
    "calculated_fischer = mean_square_between / mean_square_within\n",
    "print(f\"Fischer estatisticas: {calculated_fischer}\")\n",
    "\n",
    "variance_coefficient = np.sqrt(mean_square_within) / mean_of_all_data\n",
    "variance_coefficient = variance_coefficient * 100\n",
    "print(f\"CV : {variance_coefficient} %\")"
   ]
  },
  {
   "cell_type": "code",
   "execution_count": 16,
   "metadata": {},
   "outputs": [
    {
     "data": {
      "text/markdown": [
       "| Fonte de Váriação   | GL   | SQ         | QM        | F      |\n",
       "|:--------------------|:-----|:-----------|:----------|:-------|\n",
       "| Tratamento          | 4    | 21490500.0 | 5372625.0 | 197.97 |\n",
       "| Erro                | 15   | 407075.0   | 27138.33  |        |\n",
       "| Total               | 19   | 21897575.0 |           |        |\n",
       "| Média Geral         |      |            |           | 1547.5 |\n",
       "| CV(%)               |      |            |           | 10.65  |"
      ],
      "text/plain": [
       "<IPython.core.display.Markdown object>"
      ]
     },
     "metadata": {},
     "output_type": "display_data"
    }
   ],
   "source": [
    "tabela_dict = {\n",
    "\"Fonte de Váriação\" : [\"Tratamento\", \"Erro\", \"Total\", \"Média Geral\", \"CV(%)\"],\n",
    "\"GL\": [df_between.__round__(2), df_within.__round__(2), df_between + df_within, \"\", \"\"],\n",
    "\"SQ\": [sum_of_square_between.__round__(2), sum_of_square_within.__round__(2), sum_of_square_total.__round__(2),\"\", \"\"], \n",
    "\"QM\": [mean_square_between.__round__(2),mean_square_within.__round__(2),\"\",\"\", \"\"], \n",
    "\"F\" : [calculated_fischer.__round__(2),\"\",\"\", mean_of_all_data.__round__(2),variance_coefficient.__round__(2)]}\n",
    "\n",
    "dataframe_tabela = pd.DataFrame(tabela_dict)\n",
    "\n",
    "display(Markdown(dataframe_tabela.to_markdown(index=False)))"
   ]
  },
  {
   "cell_type": "code",
   "execution_count": 18,
   "metadata": {},
   "outputs": [
    {
     "name": "stdout",
     "output_type": "stream",
     "text": [
      "Valor na Tabela de Fischer: 3.056\n",
      "Valor calculado na tabela de variação: 197.97181109132225\n",
      "Existe Diferença Significativa\n"
     ]
    }
   ],
   "source": [
    "dataframe = pd.read_csv(\"tabela_fischer.csv\")\n",
    "\n",
    "ftab = list(dataframe.iterrows())[df_within -1][1][f\"{df_between}\"]\n",
    "print(f\"Valor na Tabela de Fischer: {ftab}\")\n",
    "print(f\"Valor calculado na tabela de variação: {calculated_fischer}\")\n",
    "if ftab < calculated_fischer:\n",
    "    print(\"Existe Diferença Significativa\")\n",
    "else: \n",
    "    print(\"Não Existe Diferença Significativa\")"
   ]
  }
 ],
 "metadata": {
  "kernelspec": {
   "display_name": ".venv",
   "language": "python",
   "name": "python3"
  },
  "language_info": {
   "codemirror_mode": {
    "name": "ipython",
    "version": 3
   },
   "file_extension": ".py",
   "mimetype": "text/x-python",
   "name": "python",
   "nbconvert_exporter": "python",
   "pygments_lexer": "ipython3",
   "version": "3.12.2"
  }
 },
 "nbformat": 4,
 "nbformat_minor": 2
}
