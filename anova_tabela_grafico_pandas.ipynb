{
 "cells": [
  {
   "cell_type": "code",
   "execution_count": 1,
   "metadata": {},
   "outputs": [],
   "source": [
    "from typing import List, Dict\n",
    "import pandas as pd\n",
    "from IPython.display import display, Markdown\n",
    "import numpy as np\n",
    "import csv"
   ]
  },
  {
   "cell_type": "code",
   "execution_count": 9,
   "metadata": {},
   "outputs": [
    {
     "name": "stdout",
     "output_type": "stream",
     "text": [
      "      A     B     C    D    E\n",
      "0  2000  1200  3000  700  500\n",
      "1  2300  1000  3400  600  700\n",
      "2  2500   900  3100  900  390\n",
      "3  2400  1050  3300  600  410\n"
     ]
    }
   ],
   "source": [
    "dataframe = pd.read_csv(\"remedios.csv\")\n",
    "print(dataframe)"
   ]
  },
  {
   "cell_type": "code",
   "execution_count": 18,
   "metadata": {},
   "outputs": [
    {
     "name": "stdout",
     "output_type": "stream",
     "text": [
      "DF tratamentos(entre colunas): 4\n",
      "DF erros(dentro das colunas): 15\n"
     ]
    }
   ],
   "source": [
    "# NUMERO DE TRATAMENTOS E NUMERO DE REPETIÇÕES\n",
    "r, k = dataframe.shape\n",
    "\n",
    "## GRAUS DE LIBERDADE = GL = DF ## \n",
    "# Numero de Variaveis Independentes\n",
    "# gl_trat = k - 1\n",
    "df_between = k - 1\n",
    "# gl_erro\n",
    "df_within = (r*k) - k\n",
    "print(f\"DF tratamentos(entre colunas): {round(df_between, 2)}\")\n",
    "print(f\"DF erros(dentro das colunas): {round(df_within, 2)}\")"
   ]
  },
  {
   "cell_type": "code",
   "execution_count": 73,
   "metadata": {},
   "outputs": [
    {
     "name": "stdout",
     "output_type": "stream",
     "text": [
      "Soma de quadrados entre colunas: 5372625.0\n",
      "Soma de quadrados dentro de colunas: 407075.0\n"
     ]
    }
   ],
   "source": [
    "# SUM OF SQUARE - SSQ\n",
    "# Soma dos quadrados - SQ\n",
    "\n",
    "\n",
    "mean_of_all_data = dataframe.to_numpy().mean()\n",
    "\n",
    "sum_of_square_between = sum([*map(lambda n: (n - mean_of_all_data) ** 2, dataframe.mean())])\n",
    "sum_of_square_within = 0\n",
    "\n",
    "print(f\"Soma de quadrados entre colunas: {sum_of_square_between}\")\n",
    "\n",
    "# for value in dataframe.items():\n",
    "#     column_mean = value[1].mean()\n",
    "#     sum_of_column = sum([*map(lambda n: (n - column_mean) ** 2, value[1])])\n",
    "#     sum_of_square_within += sum_of_column\n",
    "# print(sum_of_square_within)\n",
    "\n",
    "sum_of_square_within = sum([*map(lambda n: sum([*map(lambda m: (m - dataframe[n].mean())**2, dataframe[n])]), dataframe.columns)])\n",
    "\n",
    "print(f\"Soma de quadrados dentro de colunas: {sum_of_square_within}\")\n",
    "    "
   ]
  },
  {
   "cell_type": "code",
   "execution_count": null,
   "metadata": {},
   "outputs": [],
   "source": []
  }
 ],
 "metadata": {
  "kernelspec": {
   "display_name": ".venv",
   "language": "python",
   "name": "python3"
  },
  "language_info": {
   "codemirror_mode": {
    "name": "ipython",
    "version": 3
   },
   "file_extension": ".py",
   "mimetype": "text/x-python",
   "name": "python",
   "nbconvert_exporter": "python",
   "pygments_lexer": "ipython3",
   "version": "3.12.2"
  }
 },
 "nbformat": 4,
 "nbformat_minor": 2
}
