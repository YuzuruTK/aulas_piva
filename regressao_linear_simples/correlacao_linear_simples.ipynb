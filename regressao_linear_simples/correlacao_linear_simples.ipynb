{
 "cells": [
  {
   "cell_type": "code",
   "execution_count": 86,
   "metadata": {},
   "outputs": [],
   "source": [
    "import pandas as pd\n",
    "from math import sqrt\n",
    "\n",
    "import seaborn as sns\n",
    "from matplotlib import pyplot as plt\n",
    "\n",
    "csv_folder = \"csvs/correlacao_linear_simples\"\n",
    "## CASO NÃO ESTEJA ENCONTRANDO OS ARQUIVOS, SÓ PEGA E DESCOMENTA A LINHA DEBAIXO PRA ELE PEGAR E TROCAR DE DIRETÓRIO\n",
    "# os.chdir(f\"../{csv_folder}\")"
   ]
  },
  {
   "cell_type": "code",
   "execution_count": 87,
   "metadata": {},
   "outputs": [
    {
     "name": "stdout",
     "output_type": "stream",
     "text": [
      "   altura  peso\n",
      "0     183    79\n",
      "1     173    69\n",
      "2     168    70\n",
      "3     188    81\n",
      "4     158    61\n",
      "5     163    63\n",
      "6     193    79\n",
      "7     163    71\n",
      "8     178    73\n"
     ]
    }
   ],
   "source": [
    "dataframe = pd.read_csv(\"csvs/altura_peso.csv\")\n",
    "print(dataframe)"
   ]
  },
  {
   "cell_type": "markdown",
   "metadata": {},
   "source": [
    "# Preparando os dados pra Formula\n",
    "\n",
    "- list_x = Lista com os valores da variavel X\n",
    "- list_y = Lista com os valores da variavel Y\n",
    "\n",
    "- n = Quantidade de Pares de Dados (tamanho da lista)\n",
    "\n",
    "- sum_of_x = Somatório dos valores da variavel X => $\\sum_x$ \n",
    "- sum_of_y = Somatório dos valores da variavel Y => $\\sum_y$ \n",
    "\n",
    "- sum_of_squared_x = Somatório dos valores ao quadrado da variavel X => $\\sum_{x²}$ \n",
    "- sum_of_squared_y = Somatório dos valores ao quadrado da variavel Y => $\\sum_{y²}$\n",
    "\n",
    "- sum_of_xy = Somatório dos valores de X multiplicado por Y => $\\sum_{x*y}$"
   ]
  },
  {
   "cell_type": "code",
   "execution_count": 88,
   "metadata": {},
   "outputs": [
    {
     "name": "stdout",
     "output_type": "stream",
     "text": [
      "\n",
      "N = 9\n",
      "Somatório de X = 1567\n",
      "Somatório de Y = 646\n",
      "Somatório de X ao quadrado = 274021\n",
      "Somatório de Y ao quadrado = 46764\n",
      "Somatório de X e Y = 113103\n"
     ]
    }
   ],
   "source": [
    "list_x = list(dataframe.items())[0][1]\n",
    "list_y = list(dataframe.items())[1][1]\n",
    "\n",
    "n = len(dataframe)\n",
    "print(f\"\\nN = {n}\")\n",
    "\n",
    "sum_of_x = sum(list_x)\n",
    "print(f\"Somatório de X = {sum_of_x}\")\n",
    "sum_of_y = sum(list_y)\n",
    "print(f\"Somatório de Y = {sum_of_y}\")\n",
    "\n",
    "sum_of_squared_x = sum([*map(lambda x : x**2, list_x)])\n",
    "print(f\"Somatório de X ao quadrado = {sum_of_squared_x}\")\n",
    "sum_of_squared_y = sum([*map(lambda y : y**2, list_y)])\n",
    "print(f\"Somatório de Y ao quadrado = {sum_of_squared_y}\")\n",
    "\n",
    "sum_of_xy = 0\n",
    "\n",
    "for i in range(n):\n",
    "    sum_of_xy += list_x[i] * list_y[i]\n",
    "\n",
    "print(f\"Somatório de X e Y = {sum_of_xy}\")"
   ]
  },
  {
   "cell_type": "markdown",
   "metadata": {},
   "source": [
    "# Resolvendo a Fórmula\n",
    "\n",
    "Fórmula Total = $\\frac{\\sum_{xy} - \\frac{\\sum_{x} * \\sum{y}}{n}}{\\sqrt{\\sum{x^{2}} - \\frac{(\\sum{x})^{2}}{n}}  * \\sqrt{\\sum{y^{2}} - \\frac{(\\sum{y})^{2}}{n}}}$\n",
    "\n",
    "vou dividir em partes...\n",
    "\n",
    "part1 = $\\sum_{xy} - \\frac{\\sum_{x}\\sum{y}}{n}$\n",
    "\n",
    "part2 = $\\sqrt{\\sum{x^{2}} - \\frac{(\\sum{x})^{2}}{n}}$\n",
    "\n",
    "part3 = $\\sqrt{\\sum{y^{2}} * \\frac{(\\sum{y})^{2}}{n}}$\n",
    "\n",
    "\n",
    "então fica mais facil já que basicamente vai virar isso = $\\frac{part1}{part2 - part3}$\n",
    "\n"
   ]
  },
  {
   "cell_type": "code",
   "execution_count": 89,
   "metadata": {},
   "outputs": [
    {
     "name": "stdout",
     "output_type": "stream",
     "text": [
      "part1 = 627.222222222219\n",
      "part2 = 34.480268109295146\n",
      "part3 = 19.888578520235043\n",
      "\n",
      "Coeficiente de Correlação é = 0.9146334038085359\n",
      "Procure na tabela de Pearson o valor para a quantidade de dados = 9, e compare o coeficiente\n",
      "Caso o coeficiente seja maior então é Relevante\n",
      "A Correlação é Forte e Positiva\n"
     ]
    }
   ],
   "source": [
    "part1 = sum_of_xy - ((sum_of_x * sum_of_y)/n)\n",
    "print(f\"part1 = {part1}\")\n",
    "\n",
    "part2 = sqrt(sum_of_squared_x - ((sum_of_x**2)/n))\n",
    "print(f\"part2 = {part2}\")\n",
    "\n",
    "part3 = sqrt(sum_of_squared_y - ((sum_of_y**2)/n))\n",
    "print(f\"part3 = {part3}\\n\")\n",
    "\n",
    "\n",
    "correlation_coeficient = part1 / (part2 * part3)\n",
    "\n",
    "print(f\"Coeficiente de Correlação é = {correlation_coeficient}\")\n",
    "print(f\"Procure na tabela de Pearson o valor para a quantidade de dados = {n}, e compare o coeficiente\\nCaso o coeficiente seja maior então é Relevante\")\n",
    "\n",
    "if correlation_coeficient > 0.5:\n",
    "    print(\"A Correlação é Forte e Positiva\")\n",
    "elif correlation_coeficient > 0:\n",
    "    print(\"A Correlação é Fraca e Positiva\")\n",
    "elif correlation_coeficient > -0.5:\n",
    "    print(\"Correlação é Fraca e Negativa\")\n",
    "else:\n",
    "    print(\"Correlação é Forte e Negativa\")\n"
   ]
  },
  {
   "cell_type": "markdown",
   "metadata": {},
   "source": [
    "# Gráfico de Dispersão do conjunto"
   ]
  },
  {
   "cell_type": "code",
   "execution_count": 90,
   "metadata": {},
   "outputs": [
    {
     "data": {
      "image/png": "[encoded data removed]",
      "text/plain": [
       "<Figure size 500x500 with 1 Axes>"
      ]
     },
     "metadata": {},
     "output_type": "display_data"
    }
   ],
   "source": [
    "\n",
    "grafico = sns.lmplot(data=dataframe, x=dataframe.columns[0],y=dataframe.columns[1])\n",
    "\n",
    "plt.show()"
   ]
  }
 ],
 "metadata": {
  "kernelspec": {
   "display_name": ".venv",
   "language": "python",
   "name": "python3"
  },
  "language_info": {
   "codemirror_mode": {
    "name": "ipython",
    "version": 3
   },
   "file_extension": ".py",
   "mimetype": "text/x-python",
   "name": "python",
   "nbconvert_exporter": "python",
   "pygments_lexer": "ipython3",
   "version": "3.12.3"
  }
 },
 "nbformat": 4,
 "nbformat_minor": 2
}
