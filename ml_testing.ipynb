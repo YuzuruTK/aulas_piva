{
 "cells": [
  {
   "cell_type": "code",
   "execution_count": 27,
   "metadata": {},
   "outputs": [
    {
     "name": "stdout",
     "output_type": "stream",
     "text": [
      "Index(['preço', 'unidade'], dtype='object')\n"
     ]
    }
   ],
   "source": [
    "from sklearn.model_selection import train_test_split\n",
    "import pandas as pd\n",
    "import os\n",
    "from sklearn.linear_model import LinearRegression\n",
    "\n",
    "# print(os.listdir())\n",
    "\n",
    "dataframe = pd.read_csv(\"csvs/correlacao_linear_simples/preco_procura.csv\")\n",
    "\n",
    "\n",
    "print(dataframe.columns)\n",
    "colunas = list(dataframe.columns)\n",
    "\n",
    "\n",
    "x = dataframe[\"preço\"]\n",
    "y = dataframe[\"unidade\"]"
   ]
  }
 ],
 "metadata": {
  "kernelspec": {
   "display_name": ".venv",
   "language": "python",
   "name": "python3"
  },
  "language_info": {
   "codemirror_mode": {
    "name": "ipython",
    "version": 3
   },
   "file_extension": ".py",
   "mimetype": "text/x-python",
   "name": "python",
   "nbconvert_exporter": "python",
   "pygments_lexer": "ipython3",
   "version": "3.12.3"
  }
 },
 "nbformat": 4,
 "nbformat_minor": 2
}
