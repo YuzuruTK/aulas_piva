{
 "cells": [
  {
   "cell_type": "code",
   "execution_count": 52,
   "metadata": {},
   "outputs": [],
   "source": [
    "from typing import List, Dict\n",
    "import pandas as pd\n",
    "from IPython.display import display, Markdown\n",
    "import numpy as np\n",
    "import csv"
   ]
  },
  {
   "cell_type": "code",
   "execution_count": 53,
   "metadata": {},
   "outputs": [
    {
     "name": "stdout",
     "output_type": "stream",
     "text": [
      "{'inicial': [105, 96, 107, 102, 99, 88, 100, 105, 89, 123], 'final': [99, 101, 98, 102, 88, 98, 90, 98, 97, 112]}\n"
     ]
    }
   ],
   "source": [
    "\n",
    "## A ESTRUTURA DA AMOSTAR DEVE ESTAR NESSE SENTIDO DENTRO DO DICIONARIO = {\"TRATAMENTO\" : [REPETIÇÃO1, REPETIÇÃO2]}\n",
    "## onde cada chave representa um tratamento, e o que tiver dentro do array são as repetições\n",
    "## isso funciona considerando que tem apenas uma variavel sendo observada, talvez dps seja possivel fazer isso onde cada repetição ao inves de ter uma variavel, tenha um array de variaveis\n",
    "samples: Dict[str,List] = {\n",
    "                            \"A\" : [2000, 2300, 2500, 2400],\n",
    "                            \"B\" : [1200, 1000, 900, 1050],\n",
    "                            \"C\" : [3000, 3400, 3100, 3300],\n",
    "                            \"D\" : [700, 600, 900, 600],\n",
    "                            \"E\" : [500, 700, 390, 410]\n",
    "                        }\n",
    "colesterol = {\n",
    "    \"inicial\" : [234,254,274,259,275,314,251,222,275,241],\n",
    "    \"final\" : [199,175,198,193,168,208,211,217,208,203]\n",
    "}\n",
    "glicose = { \"inicial\" : [105,96,107,102,99,88,100,105,89,123], \n",
    "           \"final\" : [99,101,98,102,88,98,90,98,97,112]\n",
    "           }\n",
    "# samples = sample_data\n",
    "samples = glicose\n",
    "print(samples)\n"
   ]
  },
  {
   "cell_type": "code",
   "execution_count": 57,
   "metadata": {},
   "outputs": [
    {
     "name": "stdout",
     "output_type": "stream",
     "text": [
      "GLTrat: 1\n",
      "GLErro: 18\n",
      "GLTotal: 19\n",
      "Fator de correção (C): 199400.45\n",
      "SQtr: 48.05\n",
      "SQt: 1328.55\n",
      "SQe: 1280.5\n",
      "QMtr: 48.05\n",
      "QMe: 71.14\n",
      "FC: 0.68\n",
      "CV: 8.44705787272909%\n"
     ]
    }
   ],
   "source": [
    "\n",
    "k = len(samples.keys())\n",
    "r = len(list(samples.values())[0])\n",
    "## GL ## \n",
    "# gl_trat = k - 1\n",
    "gl_trat = k - 1\n",
    "print(f\"GLTrat: {gl_trat.__round__(2)}\")\n",
    "# GLErro = k(r-1) or GLTotal - GLtrat\n",
    "gl_erro = k * (r - 1)\n",
    "print(f\"GLErro: {gl_erro.__round__(2)}\")\n",
    "# total = k*r-1\n",
    "gl_total = k * r -1\n",
    "print(f\"GLTotal: {gl_total.__round__(2)}\")\n",
    "## SQ ## \n",
    "sum_of_all_samples = 0\n",
    "sqtr = 0\n",
    "sq_total = 0\n",
    "for key in samples.keys():\n",
    "    summatory = 0\n",
    "    for data in samples[key]:\n",
    "        summatory += float(data)\n",
    "        sq_total += pow(float(data), 2)\n",
    "    sqtr += pow(summatory, 2)\n",
    "    sum_of_all_samples += summatory\n",
    "C = pow(sum_of_all_samples, 2) / (k*r)\n",
    "print(f\"Fator de correção (C): {C}\")\n",
    "#Média\n",
    "mean = sum_of_all_samples / (k*r)\n",
    "#SQTR = Somatório(yi**2) / r - C\n",
    "sqtr = (sqtr / r) - C\n",
    "print(f\"SQtr: {sqtr.__round__(2)}\")\n",
    "#SQTotal = Somatório(Yij**2) - C\n",
    "sq_total = sq_total - C\n",
    "print(f\"SQt: {sq_total.__round__(2)}\")\n",
    "\n",
    "#sq_erro = sq_total - sqtr\n",
    "sq_erro = sq_total - sqtr\n",
    "print(f\"SQe: {sq_erro.__round__(2)}\")\n",
    "\n",
    "## QM\n",
    "# QMtrat = SQTrat / GLTrat\n",
    "qm_trat = sqtr / gl_trat\n",
    "print(f\"QMtr: {qm_trat.__round__(2)}\")\n",
    "# QMErro = SQerro / GLerro\n",
    "qm_erro = sq_erro / gl_erro\n",
    "print(f\"QMe: {qm_erro.__round__(2)}\")\n",
    "fc = qm_trat / qm_erro\n",
    "print(f\"FC: {fc.__round__(2)}\")\n",
    "# CV = sqrt(QMErro) / Media Geral\n",
    "cv = np.sqrt(qm_erro) / mean\n",
    "cv = cv * 100\n",
    "print(f\"CV: {cv}%\")"
   ]
  },
  {
   "cell_type": "code",
   "execution_count": 55,
   "metadata": {},
   "outputs": [
    {
     "data": {
      "text/markdown": [
       "| Fonte de Váriação   | GL   | SQ      | QM    | F     |\n",
       "|:--------------------|:-----|:--------|:------|:------|\n",
       "| Tratamento          | 1    | 48.05   | 48.05 | 0.68  |\n",
       "| Erro                | 18   | 1280.5  | 71.14 |       |\n",
       "| Total               | 19   | 1328.55 |       |       |\n",
       "| Média Geral         |      |         |       | 99.85 |\n",
       "| CV(%)               |      |         |       | 8.45  |"
      ],
      "text/plain": [
       "<IPython.core.display.Markdown object>"
      ]
     },
     "metadata": {},
     "output_type": "display_data"
    }
   ],
   "source": [
    "tabela_dict = {\n",
    "\"Fonte de Váriação\" : [\"Tratamento\", \"Erro\", \"Total\", \"Média Geral\", \"CV(%)\"],\n",
    "\"GL\": [gl_trat.__round__(2), gl_erro.__round__(2), gl_total.__round__(2), \"\", \"\"],\n",
    "\"SQ\": [sqtr.__round__(2), sq_erro.__round__(2),sq_total.__round__(2),\"\", \"\"], \n",
    "\"QM\": [qm_trat.__round__(2),qm_erro.__round__(2),\"\",\"\", \"\"], \n",
    "\"F\" : [fc.__round__(2),\"\",\"\", mean.__round__(2),cv.__round__(2)]}\n",
    "tabela_dataframe = pd.DataFrame(data=tabela_dict)\n",
    "# print()\n",
    "display(Markdown(tabela_dataframe.to_markdown(index=False)))"
   ]
  },
  {
   "cell_type": "code",
   "execution_count": 58,
   "metadata": {},
   "outputs": [
    {
     "name": "stdout",
     "output_type": "stream",
     "text": [
      "Não Existe Diferença Significativa\n"
     ]
    }
   ],
   "source": [
    "dataframe = pd.read_csv(\"tabela_fischer.csv\")\n",
    "\n",
    "ftab = list(dataframe.iterrows())[gl_erro -1][1][f\"{gl_trat}\"]\n",
    "if ftab < fc:\n",
    "    print(\"Existe Diferença entre pelo menos dois Tratamentos\")\n",
    "else: \n",
    "    print(\"Não Existe Diferença Significativa\")\n"
   ]
  }
 ],
 "metadata": {
  "kernelspec": {
   "display_name": ".venv",
   "language": "python",
   "name": "python3"
  },
  "language_info": {
   "codemirror_mode": {
    "name": "ipython",
    "version": 3
   },
   "file_extension": ".py",
   "mimetype": "text/x-python",
   "name": "python",
   "nbconvert_exporter": "python",
   "pygments_lexer": "ipython3",
   "version": "3.12.2"
  }
 },
 "nbformat": 4,
 "nbformat_minor": 2
}
