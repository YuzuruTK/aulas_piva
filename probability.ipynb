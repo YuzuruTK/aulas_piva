{
 "cells": [
  {
   "cell_type": "markdown",
   "metadata": {},
   "source": [
    "# Probability of a CSV"
   ]
  },
  {
   "cell_type": "code",
   "execution_count": 2,
   "metadata": {},
   "outputs": [
    {
     "name": "stdout",
     "output_type": "stream",
     "text": [
      "['probability.csv', 'z-table.csv']\n"
     ]
    }
   ],
   "source": [
    "import pandas as pd\n",
    "import numpy as np\n",
    "import os\n",
    "\n",
    "folder = \"./csvs/probability/\"\n",
    "print(os.listdir(folder))\n",
    "file = \"probability.csv\"\n",
    "\n",
    "z_table = pd.read_csv(folder+\"z-table.csv\")"
   ]
  },
  {
   "cell_type": "code",
   "execution_count": 3,
   "metadata": {},
   "outputs": [],
   "source": [
    "dataframe = pd.read_csv(folder+file)"
   ]
  },
  {
   "cell_type": "code",
   "execution_count": 4,
   "metadata": {},
   "outputs": [
    {
     "name": "stdout",
     "output_type": "stream",
     "text": [
      "We have 1 chances in 20\n",
      "Probability that occours = 5%\n",
      "Probability that not occours = 95%\n",
      "\n",
      "We have 10 chances in 30\n",
      "Probability that occours = 33%\n",
      "Probability that not occours = 67%\n",
      "\n",
      "We have 1 chances in 6\n",
      "Probability that occours = 17%\n",
      "Probability that not occours = 83%\n",
      "\n"
     ]
    }
   ],
   "source": [
    "amount_that_want = list(dataframe[\"wanted\"])\n",
    "amount_that_has = list(dataframe[\"total\"])\n",
    "probabilities = []\n",
    "\n",
    "for i in range(len(dataframe)):\n",
    "    print(f\"We have {amount_that_want[i]} chances in {amount_that_has[i]}\")\n",
    "    probability = amount_that_want[i] / amount_that_has[i]\n",
    "    probabilities.append(probability)\n",
    "\n",
    "    print(f\"Probability that occours = {round(probability * 100)}%\")\n",
    "    print(f\"Probability that not occours = {round((1 - probability) * 100)}%\\n\")"
   ]
  },
  {
   "cell_type": "markdown",
   "metadata": {},
   "source": [
    "# ALL EVENTS HAPPEN \n",
    "### multiplication of probabilities"
   ]
  },
  {
   "cell_type": "code",
   "execution_count": 5,
   "metadata": {},
   "outputs": [
    {
     "name": "stdout",
     "output_type": "stream",
     "text": [
      "The chance of every event happens is 0.28%\n"
     ]
    }
   ],
   "source": [
    "probability_of_all_happen = 1\n",
    "\n",
    "for i in probabilities:\n",
    "    probability_of_all_happen *= i\n",
    "\n",
    "print(f\"The chance of every event happens is {round(probability_of_all_happen * 100, 2)}%\")\n"
   ]
  },
  {
   "cell_type": "markdown",
   "metadata": {},
   "source": [
    "# AT LEAST ONE EVENT HAPPEN\n",
    "### Sum of Probabilities"
   ]
  },
  {
   "cell_type": "code",
   "execution_count": 6,
   "metadata": {},
   "outputs": [
    {
     "name": "stdout",
     "output_type": "stream",
     "text": [
      "The chance of at least one event happens is 55.0%\n"
     ]
    }
   ],
   "source": [
    "probability_of_at_least_one = 0\n",
    "\n",
    "for i in probabilities:\n",
    "    probability_of_at_least_one += i\n",
    "\n",
    "print(f\"The chance of at least one event happens is {round(probability_of_at_least_one * 100, 2)}%\")"
   ]
  },
  {
   "cell_type": "markdown",
   "metadata": {},
   "source": [
    "# Binomial Distribution"
   ]
  },
  {
   "cell_type": "code",
   "execution_count": 7,
   "metadata": {},
   "outputs": [
    {
     "name": "stdout",
     "output_type": "stream",
     "text": [
      "The Probability of 5 successes in 10 repetitions is 0.01%\n",
      "The Probability of 5 successes in 10 repetitions is 13.66%\n",
      "The Probability of 5 successes in 10 repetitions is 1.3%\n"
     ]
    }
   ],
   "source": [
    "from math import factorial\n",
    "\n",
    "\n",
    "number_of_repetitions = 10\n",
    "number_of_success = 5\n",
    "\n",
    "nk = factorial( number_of_repetitions) /  (factorial(number_of_repetitions - number_of_success) * factorial(number_of_success))\n",
    "\n",
    "for chance_of_success in probabilities:\n",
    "    chance_of_fail = 1 - chance_of_success\n",
    "    chance_of_nk = nk * (chance_of_success ** number_of_success) * (chance_of_fail ** (number_of_repetitions - number_of_success))\n",
    "    print(f\"The Probability of {number_of_success} successes in {number_of_repetitions} repetitions is {round(chance_of_nk * 100, 2)}%\")"
   ]
  },
  {
   "cell_type": "markdown",
   "metadata": {},
   "source": [
    "# Standart Normal Distribution"
   ]
  },
  {
   "cell_type": "code",
   "execution_count": 20,
   "metadata": {},
   "outputs": [
    {
     "name": "stdout",
     "output_type": "stream",
     "text": [
      "Z = 1.25 = 0.89435\n"
     ]
    }
   ],
   "source": [
    "population_medium = 0\n",
    "pi = np.pi\n",
    "e = np.e\n",
    "mean_normal_distribution = 2\n",
    "default_deviation = 0.04\n",
    "x = 2.05 # Whatever the value\n",
    "number_of_default_deviation = (x - mean_normal_distribution) / default_deviation\n",
    "number_of_default_deviation = round(number_of_default_deviation, 2)\n",
    "\n",
    "y = (1/np.sqrt(2 * pi)) * (e ** ((-1/2) *(number_of_default_deviation ** 2) ))\n",
    "\n",
    "column_on_z = ((number_of_default_deviation * 10) - round(number_of_default_deviation * 10)) * 10\n",
    "column_on_z = str(int(column_on_z))\n",
    "\n",
    "row_on_z = (int(number_of_default_deviation * 10)) / 10\n",
    "\n",
    "for i in z_table[\"Z\"]:\n",
    "    if i == row_on_z:\n",
    "        row_on_z = z_table[z_table[\"Z\"] == row_on_z].index[0]\n",
    "\n",
    "value_of_z_table = z_table[column_on_z][row_on_z]\n",
    "\n",
    "print(f\"Z = {number_of_default_deviation} = {value_of_z_table}\")"
   ]
  }
 ],
 "metadata": {
  "kernelspec": {
   "display_name": ".venv",
   "language": "python",
   "name": "python3"
  },
  "language_info": {
   "codemirror_mode": {
    "name": "ipython",
    "version": 3
   },
   "file_extension": ".py",
   "mimetype": "text/x-python",
   "name": "python",
   "nbconvert_exporter": "python",
   "pygments_lexer": "ipython3",
   "version": "3.12.3"
  }
 },
 "nbformat": 4,
 "nbformat_minor": 2
}
